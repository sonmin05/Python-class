{
  "nbformat": 4,
  "nbformat_minor": 0,
  "metadata": {
    "colab": {
      "provenance": [],
      "authorship_tag": "ABX9TyMsJz62mdLjTy+02Bq9PkEY",
      "include_colab_link": true
    },
    "kernelspec": {
      "name": "python3",
      "display_name": "Python 3"
    },
    "language_info": {
      "name": "python"
    }
  },
  "cells": [
    {
      "cell_type": "markdown",
      "metadata": {
        "id": "view-in-github",
        "colab_type": "text"
      },
      "source": [
        "<a href=\"https://colab.research.google.com/github/sonmin05/Python-class/blob/main/Python_10.ipynb\" target=\"_parent\"><img src=\"https://colab.research.google.com/assets/colab-badge.svg\" alt=\"Open In Colab\"/></a>"
      ]
    },
    {
      "cell_type": "code",
      "execution_count": 1,
      "metadata": {
        "colab": {
          "base_uri": "https://localhost:8080/"
        },
        "id": "sdcuUYn75uSO",
        "outputId": "8813350f-34bb-47c8-924a-e7417367cbaf"
      },
      "outputs": [
        {
          "output_type": "stream",
          "name": "stdout",
          "text": [
            "BlockDMask\n",
            "BlockDMask\n",
            "BlockDMask\n"
          ]
        }
      ],
      "source": [
        "def 함수명() :\n",
        "   수행문장\n",
        "   ...\n",
        "\n",
        "def func1():\n",
        "    print('BlockDMask')\n",
        "\n",
        "# 함수 호출\n",
        "func1()\n",
        "func1()\n",
        "func1()\n"
      ]
    },
    {
      "cell_type": "code",
      "source": [
        "def func2(a, b):\n",
        "    print(f'{a} 곱하기 {b} = {a * b}')\n",
        "\n",
        "# 함수 호출\n",
        "func2(1, 2)\n",
        "func2(1, 1)\n",
        "func2(3, 4)\n"
      ],
      "metadata": {
        "colab": {
          "base_uri": "https://localhost:8080/"
        },
        "id": "NfAqEDeu8bN-",
        "outputId": "68063487-1429-4492-9809-c059ca25c42d"
      },
      "execution_count": 14,
      "outputs": [
        {
          "output_type": "stream",
          "name": "stdout",
          "text": [
            "1 곱하기 2 = 2\n",
            "1 곱하기 1 = 1\n",
            "3 곱하기 4 = 12\n"
          ]
        }
      ]
    },
    {
      "cell_type": "code",
      "source": [
        "def 함수이름():\n",
        "    수행문장\n",
        "    return 반환값\n",
        "\n",
        "def func3():\n",
        "    return \"abcdefg\"\n",
        "\n",
        "# 함수 호출\n",
        "\n",
        "a = func3()\n",
        "print(a + \"GG\")\n"
      ],
      "metadata": {
        "colab": {
          "base_uri": "https://localhost:8080/"
        },
        "id": "JiYnDN-w8dTk",
        "outputId": "41b4526d-a090-45d9-971f-7eecca1538bf"
      },
      "execution_count": 3,
      "outputs": [
        {
          "output_type": "stream",
          "name": "stdout",
          "text": [
            "abcdefgGG\n"
          ]
        }
      ]
    },
    {
      "cell_type": "code",
      "source": [
        "def 함수이름(매개변수1, 매개변수2 ...):\n",
        "    수행문장\n",
        "    return 반환값\n",
        "\n",
        "def func4(a, b):\n",
        "    return a * b\n",
        "\n",
        "# 함수 호출\n",
        "c = func4(3, 9)\n",
        "print(c)\n"
      ],
      "metadata": {
        "colab": {
          "base_uri": "https://localhost:8080/",
          "height": 106
        },
        "id": "DeNGvMHx8fcG",
        "outputId": "501de80d-d567-475e-ea58-70e018ea5da6"
      },
      "execution_count": 4,
      "outputs": [
        {
          "output_type": "error",
          "ename": "SyntaxError",
          "evalue": "invalid syntax (<ipython-input-4-ab0af16467c6>, line 1)",
          "traceback": [
            "\u001b[0;36m  File \u001b[0;32m\"<ipython-input-4-ab0af16467c6>\"\u001b[0;36m, line \u001b[0;32m1\u001b[0m\n\u001b[0;31m    def 함수이름(매개변수1, 매개변수2 ...):\u001b[0m\n\u001b[0m                          ^\u001b[0m\n\u001b[0;31mSyntaxError\u001b[0m\u001b[0;31m:\u001b[0m invalid syntax\n"
          ]
        }
      ]
    },
    {
      "cell_type": "code",
      "source": [
        "# 구구단 no 함수 버전\n",
        "\n",
        "# 구구단 출력\n",
        "for i in range(1, 10):\n",
        "    print(f'{2} x {i} = {2 * i}')\n",
        "for i in range(1, 10):\n",
        "    print(f'{3} x {i} = {3 * i}')\n",
        "\n",
        "# ...\n",
        "for i in range(1, 10):\n",
        "    print(f'{9} x {i} = {9 * i}')\n"
      ],
      "metadata": {
        "colab": {
          "base_uri": "https://localhost:8080/"
        },
        "id": "dHxVlzJg8gt8",
        "outputId": "513f7b3a-322c-41f1-cc7c-60f1af1d50ed"
      },
      "execution_count": 5,
      "outputs": [
        {
          "output_type": "stream",
          "name": "stdout",
          "text": [
            "2 x 1 = 2\n",
            "2 x 2 = 4\n",
            "2 x 3 = 6\n",
            "2 x 4 = 8\n",
            "2 x 5 = 10\n",
            "2 x 6 = 12\n",
            "2 x 7 = 14\n",
            "2 x 8 = 16\n",
            "2 x 9 = 18\n",
            "3 x 1 = 3\n",
            "3 x 2 = 6\n",
            "3 x 3 = 9\n",
            "3 x 4 = 12\n",
            "3 x 5 = 15\n",
            "3 x 6 = 18\n",
            "3 x 7 = 21\n",
            "3 x 8 = 24\n",
            "3 x 9 = 27\n",
            "9 x 1 = 9\n",
            "9 x 2 = 18\n",
            "9 x 3 = 27\n",
            "9 x 4 = 36\n",
            "9 x 5 = 45\n",
            "9 x 6 = 54\n",
            "9 x 7 = 63\n",
            "9 x 8 = 72\n",
            "9 x 9 = 81\n"
          ]
        }
      ]
    },
    {
      "cell_type": "code",
      "source": [
        "# 구구단 함수 버전\n",
        "def gugudan(num):\n",
        "    for i in range(1, 10):\n",
        "        print(f'{num} x {i} = {num * i}')\n",
        "\n",
        "# 구구단 출력\n",
        "gugudan(2)\n",
        "gugudan(3)\n",
        "# ...\n",
        "gugudan(9)\n"
      ],
      "metadata": {
        "colab": {
          "base_uri": "https://localhost:8080/"
        },
        "id": "HlWnYqW88iCN",
        "outputId": "f095ebac-ef6b-4231-f114-c2ef9b1667f3"
      },
      "execution_count": 6,
      "outputs": [
        {
          "output_type": "stream",
          "name": "stdout",
          "text": [
            "2 x 1 = 2\n",
            "2 x 2 = 4\n",
            "2 x 3 = 6\n",
            "2 x 4 = 8\n",
            "2 x 5 = 10\n",
            "2 x 6 = 12\n",
            "2 x 7 = 14\n",
            "2 x 8 = 16\n",
            "2 x 9 = 18\n",
            "3 x 1 = 3\n",
            "3 x 2 = 6\n",
            "3 x 3 = 9\n",
            "3 x 4 = 12\n",
            "3 x 5 = 15\n",
            "3 x 6 = 18\n",
            "3 x 7 = 21\n",
            "3 x 8 = 24\n",
            "3 x 9 = 27\n",
            "9 x 1 = 9\n",
            "9 x 2 = 18\n",
            "9 x 3 = 27\n",
            "9 x 4 = 36\n",
            "9 x 5 = 45\n",
            "9 x 6 = 54\n",
            "9 x 7 = 63\n",
            "9 x 8 = 72\n",
            "9 x 9 = 81\n"
          ]
        }
      ]
    },
    {
      "cell_type": "code",
      "source": [
        "# 디폴트 파라미터 예제 1\n",
        "def func1(a, b=5, c=10):\n",
        "    return a + b + c\n",
        "\n",
        "func1(1, 2, 3)  # 1 + 2 + 3\n",
        "func1(1, 2)  # 1 + 2 + 10\n",
        "func1(1)  # 1 + 5 + 10\n",
        "# func1() error\n",
        "\n",
        "# 디폴트 파라미터 예제 2\n",
        "def func2(a=10, b=20):\n",
        "    return a + b\n",
        "\n",
        "func2(1, 2)  # 1 + 2\n",
        "func2(1)  # 1 + 20\n",
        "func2()  # 10 + 20\n"
      ],
      "metadata": {
        "colab": {
          "base_uri": "https://localhost:8080/"
        },
        "id": "WcQEVzGH8jUk",
        "outputId": "6e6bdb64-1ec8-4153-f026-5696be306e3c"
      },
      "execution_count": 7,
      "outputs": [
        {
          "output_type": "execute_result",
          "data": {
            "text/plain": [
              "30"
            ]
          },
          "metadata": {},
          "execution_count": 7
        }
      ]
    },
    {
      "cell_type": "code",
      "source": [
        "\n",
        "\n",
        "# 아래는 잘못된 디폴트 파라미터\n",
        "# 디폴트 파라미터는 뒤에서 부터 해야한다.\n",
        "# 그래야 인수가 비었을때 판단이 가능.\n",
        "def func3(a = 10, b, c): # error\n",
        "    return a + b + c\n",
        "\n",
        "func3(1, 2)    # 1이 a이고 2가 b에 들어가는거겠지?\n",
        "               # 뭘 원하는거야? error\n",
        "func3( , 1, 2) # 뭐 이렇게 호출해야하나? error\n"
      ],
      "metadata": {
        "colab": {
          "base_uri": "https://localhost:8080/",
          "height": 106
        },
        "id": "jTZMtalk8kvF",
        "outputId": "e0841185-30e3-439e-dca7-7ffdd0fe890a"
      },
      "execution_count": 8,
      "outputs": [
        {
          "output_type": "error",
          "ename": "SyntaxError",
          "evalue": "non-default argument follows default argument (<ipython-input-8-a0de2aca7568>, line 4)",
          "traceback": [
            "\u001b[0;36m  File \u001b[0;32m\"<ipython-input-8-a0de2aca7568>\"\u001b[0;36m, line \u001b[0;32m4\u001b[0m\n\u001b[0;31m    def func3(a = 10, b, c): # error\u001b[0m\n\u001b[0m                      ^\u001b[0m\n\u001b[0;31mSyntaxError\u001b[0m\u001b[0;31m:\u001b[0m non-default argument follows default argument\n"
          ]
        }
      ]
    },
    {
      "cell_type": "code",
      "source": [
        "\n",
        "\n",
        "def 함수이름 (*매개변수):\n",
        "    수행문장\n",
        "    return 반환값\n",
        "\n",
        "def func6(*args):\n",
        "    a = 0\n",
        "    for i in args:\n",
        "        a = a + i\n",
        "    return a\n",
        "\n",
        "\n",
        "b = func6(1, 2)\n",
        "print(b)\n",
        "\n",
        "c = func6(2, 3, 4, 5)\n",
        "print(c)\n",
        "\n",
        "d = func6(1, 2, 3, 4, 5, 4, 3, 2, 1)\n",
        "print(d)\n",
        "\n",
        "e = func6()\n",
        "print(e)\n"
      ],
      "metadata": {
        "colab": {
          "base_uri": "https://localhost:8080/"
        },
        "id": "6Y5IrpGQ8mQd",
        "outputId": "c290ee8e-8e2a-4e4b-dbfa-70780ba66af8"
      },
      "execution_count": 9,
      "outputs": [
        {
          "output_type": "stream",
          "name": "stdout",
          "text": [
            "3\n",
            "14\n",
            "25\n",
            "0\n"
          ]
        }
      ]
    },
    {
      "cell_type": "code",
      "source": [
        "\n",
        "def test(*val):\n",
        "    for i in val:\n",
        "        print(i)\n",
        "\n",
        "test(1, 'a', 'b', 'c')\n"
      ],
      "metadata": {
        "colab": {
          "base_uri": "https://localhost:8080/"
        },
        "id": "VP2IM-Ul8npf",
        "outputId": "6ac58f98-a299-4ce2-cf0a-1b085ac0eaf2"
      },
      "execution_count": 16,
      "outputs": [
        {
          "output_type": "stream",
          "name": "stdout",
          "text": [
            "1\n",
            "a\n",
            "b\n",
            "c\n"
          ]
        }
      ]
    },
    {
      "cell_type": "code",
      "source": [
        "def sum_mul(choice, *val):\n",
        "    if choice == 'sum':\n",
        "        result = 0\n",
        "        for i in val:\n",
        "          result = result + i\n",
        "    elif choice == 'mul':\n",
        "        result = 1\n",
        "        for i in val:\n",
        "          result = result * i\n",
        "    print()\n",
        "    return result\n",
        "\n",
        "print(sum_mul('sum', 1,2,3,4,5 ))\n",
        "print(sum_mul('mul', 1,2,3,4,5 ))\n"
      ],
      "metadata": {
        "colab": {
          "base_uri": "https://localhost:8080/"
        },
        "id": "x7EN4bE38o8T",
        "outputId": "95aac2f9-388a-4af0-b7e3-33bcc2e203e3"
      },
      "execution_count": 15,
      "outputs": [
        {
          "output_type": "stream",
          "name": "stdout",
          "text": [
            "\n",
            "15\n",
            "\n",
            "120\n"
          ]
        }
      ]
    },
    {
      "cell_type": "code",
      "source": [
        "def comp (score=0):\n",
        "    if score == 0:\n",
        "        return 0\n",
        "    elif score > 50:\n",
        "        return 2\n",
        "    else:\n",
        "        return 1\n",
        "\n",
        "grade = comp (40)\n",
        "print (\"Grade is \", grade, \" for \", 40)\n",
        "\n",
        "grade = comp (80)\n",
        "print (\"Grade is \", grade, \" for \", 80)\n",
        "\n",
        "grade = comp ()\n",
        "print (\"Grade is \", grade, \"for no score\")\n"
      ],
      "metadata": {
        "colab": {
          "base_uri": "https://localhost:8080/"
        },
        "id": "BLJxVFfm8qr1",
        "outputId": "5e389459-c862-482d-8916-f673a333810e"
      },
      "execution_count": 12,
      "outputs": [
        {
          "output_type": "stream",
          "name": "stdout",
          "text": [
            "Grade is  1  for  40\n",
            "Grade is  2  for  80\n",
            "Grade is  0 for no score\n"
          ]
        }
      ]
    },
    {
      "cell_type": "code",
      "source": [
        "\n",
        "\n",
        "def report(name, age, score):\n",
        "    print(name, score)\n",
        "\n",
        "report(age=10, name=\"Kim\", score=80)\n"
      ],
      "metadata": {
        "colab": {
          "base_uri": "https://localhost:8080/"
        },
        "id": "PmY_mW9W8sM8",
        "outputId": "f41a3858-b45d-4e9c-ef34-f20578afee0b"
      },
      "execution_count": 13,
      "outputs": [
        {
          "output_type": "stream",
          "name": "stdout",
          "text": [
            "Kim 80\n"
          ]
        }
      ]
    }
  ]
}