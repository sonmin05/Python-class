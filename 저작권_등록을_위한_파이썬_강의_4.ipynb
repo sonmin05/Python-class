{
  "nbformat": 4,
  "nbformat_minor": 0,
  "metadata": {
    "colab": {
      "provenance": [],
      "authorship_tag": "ABX9TyOuGEo+HkLpergpmCS9sth4",
      "include_colab_link": true
    },
    "kernelspec": {
      "name": "python3",
      "display_name": "Python 3"
    },
    "language_info": {
      "name": "python"
    }
  },
  "cells": [
    {
      "cell_type": "markdown",
      "metadata": {
        "id": "view-in-github",
        "colab_type": "text"
      },
      "source": [
        "<a href=\"https://colab.research.google.com/github/sonmin05/Python-class/blob/main/%EC%A0%80%EC%9E%91%EA%B6%8C_%EB%93%B1%EB%A1%9D%EC%9D%84_%EC%9C%84%ED%95%9C_%ED%8C%8C%EC%9D%B4%EC%8D%AC_%EA%B0%95%EC%9D%98_4.ipynb\" target=\"_parent\"><img src=\"https://colab.research.google.com/assets/colab-badge.svg\" alt=\"Open In Colab\"/></a>"
      ]
    },
    {
      "cell_type": "code",
      "execution_count": 1,
      "metadata": {
        "colab": {
          "base_uri": "https://localhost:8080/"
        },
        "id": "xhpLiViO4L9Y",
        "outputId": "918349f7-7e75-4a13-cc0b-a7779b26b0b0"
      },
      "outputs": [
        {
          "output_type": "stream",
          "name": "stdout",
          "text": [
            "이름이 맞습니다\n"
          ]
        }
      ],
      "source": [
        "# 1번\n",
        "name = \"test\"\n",
        "if name == \"test\":\n",
        "    print(\"이름이 맞습니다\")\n",
        "else:\n",
        "    print(\"이름이 틀립니다.\")"
      ]
    },
    {
      "cell_type": "code",
      "source": [
        "# 1-2번  if elif else 예제.\n",
        "pocket = 500\n",
        "if pocket == 1000:\n",
        "    print(\"복권 구매\")\n",
        "elif pocket ==500:\n",
        "    print(\"껌 구매\")\n",
        "else:\n",
        "    print(\"집이나 가야지\")"
      ],
      "metadata": {
        "colab": {
          "base_uri": "https://localhost:8080/"
        },
        "id": "fEyfu8HT4mvF",
        "outputId": "119daf0c-92e4-4bb6-fe78-a93f0e59f054"
      },
      "execution_count": 2,
      "outputs": [
        {
          "output_type": "stream",
          "name": "stdout",
          "text": [
            "껌 구매\n"
          ]
        }
      ]
    },
    {
      "cell_type": "code",
      "source": [
        "# 2번\n",
        "a = \"사과\"\n",
        "b = \"바나나\"\n",
        "c = \"치즈\"\n",
        "if a == \"사과\" or b == \"안바나나\":\n",
        "    print(\"사과 이거나 바나나 입니다.\")\n",
        "\n",
        "if a == \"사과\" and b == \"바나나\":\n",
        "    print(\"사과 이고 바나나 입니다.\")\n",
        "\n",
        "if not c == \"사과\":\n",
        "    print(\"사과가 아니어야 여기 들어옵니다.\")"
      ],
      "metadata": {
        "colab": {
          "base_uri": "https://localhost:8080/"
        },
        "id": "9MzM78hQ5Cvb",
        "outputId": "99ac084b-7702-437f-ac84-04ec93602fae"
      },
      "execution_count": 3,
      "outputs": [
        {
          "output_type": "stream",
          "name": "stdout",
          "text": [
            "사과 이거나 바나나 입니다.\n",
            "사과 이고 바나나 입니다.\n",
            "사과가 아니어야 여기 들어옵니다.\n"
          ]
        }
      ]
    },
    {
      "cell_type": "code",
      "source": [
        "# 2-2번\n",
        "a = [1,2,3,4,5,6,7,8,9,10]\n",
        "\n",
        "if 1 in a:\n",
        "    print(\"1 is in a\")\n",
        "\n",
        "if 10 in a:\n",
        "    print(\"10 is in a\")"
      ],
      "metadata": {
        "colab": {
          "base_uri": "https://localhost:8080/"
        },
        "id": "udU9K3MW5ExY",
        "outputId": "d0308c95-841d-41e9-bdfd-ce92620a2532"
      },
      "execution_count": 4,
      "outputs": [
        {
          "output_type": "stream",
          "name": "stdout",
          "text": [
            "1 is in a\n",
            "10 is in a\n"
          ]
        }
      ]
    },
    {
      "cell_type": "code",
      "source": [
        "p_class = \"Z\"\n",
        "sel_amount = 79900\n",
        "\n",
        "if p_class == \"A\":\n",
        "  sel_amount *= 0.7\n",
        "  print(sel_amount)\n",
        "elif p_class == \"B\":\n",
        "  sel_amount *= 0.85\n",
        "  print(sel_amount)\n",
        "elif p_class == \"C\":\n",
        "  sel_amount *= 0.92\n",
        "  print(sel_amount)\n",
        "elif p_class == \"Z\":\n",
        "  sel_amount += 5000\n",
        "  print(sel_amount)"
      ],
      "metadata": {
        "colab": {
          "base_uri": "https://localhost:8080/"
        },
        "id": "qk-GL8pm5SPs",
        "outputId": "0c75e99c-f29e-4de7-b3de-a94401221d68"
      },
      "execution_count": 6,
      "outputs": [
        {
          "output_type": "stream",
          "name": "stdout",
          "text": [
            "84900\n"
          ]
        }
      ]
    },
    {
      "cell_type": "code",
      "source": [
        "#4-1\n",
        "p_class = \"Z\"\n",
        "sel_amount = 79900\n",
        "\n",
        "if p_class == \"A\":\n",
        "  sel_amount *= 0.7 # 55930.0\n",
        "  print(f'판매가는 {sel_amount}원 입니다.')\n",
        "elif p_class == \"B\":\n",
        "  sel_amount *= 0.85 # 67915.0\n",
        "  print(f'판매가는 {sel_amount}원 입니다.')\n",
        "elif p_class == \"C\":\n",
        "  sel_amount *= 0.92# 84900\n",
        "  print(f'판매가는 {sel_amount}원 입니다.')\n",
        "elif p_class == \"Z\":\n",
        "  sel_amount += 5000 # 84900\n",
        "  print(f'판매가는 {sel_amount}원 입니다.')"
      ],
      "metadata": {
        "colab": {
          "base_uri": "https://localhost:8080/"
        },
        "id": "VuGpDb1U5vEh",
        "outputId": "accba08b-0ccc-470c-cf6e-3b195f8871be"
      },
      "execution_count": 7,
      "outputs": [
        {
          "output_type": "stream",
          "name": "stdout",
          "text": [
            "판매가는 84900원 입니다.\n"
          ]
        }
      ]
    },
    {
      "cell_type": "code",
      "source": [
        "#4-2\n",
        "x = 11\n",
        "\n",
        "if x< 10:\n",
        "  print('x는 10보다 작아!')\n",
        "else:\n",
        "  print('x는 10보다 작지않아!')"
      ],
      "metadata": {
        "colab": {
          "base_uri": "https://localhost:8080/"
        },
        "id": "j0hUGBjB53-j",
        "outputId": "18258dd8-e229-435a-9aae-df51ade648d2"
      },
      "execution_count": 8,
      "outputs": [
        {
          "output_type": "stream",
          "name": "stdout",
          "text": [
            "x는 10보다 작지않아!\n"
          ]
        }
      ]
    },
    {
      "cell_type": "code",
      "source": [
        "#5\n",
        "x = 3\n",
        "\n",
        "if x < 10:\n",
        "  print('x는 10보다 작아!')\n",
        "  if x%2 == 0:\n",
        "    print('x는 짝수야!')\n",
        "  else:\n",
        "    print('x는 홀수야!')\n",
        "else:\n",
        "  print('x는 10보다 커!')\n",
        "  if x%2 == 0:\n",
        "    print('x는 짝수야!')\n",
        "  else:\n",
        "    print('x는 홀수야!')"
      ],
      "metadata": {
        "colab": {
          "base_uri": "https://localhost:8080/"
        },
        "id": "5UuO8KIO6Ady",
        "outputId": "df4d1ec0-b0d7-4498-f4d5-f9946c3f1ac0"
      },
      "execution_count": 9,
      "outputs": [
        {
          "output_type": "stream",
          "name": "stdout",
          "text": [
            "x는 10보다 작아!\n",
            "x는 홀수야!\n"
          ]
        }
      ]
    },
    {
      "cell_type": "code",
      "source": [
        "#6\n",
        "x = 3\n",
        "\n",
        "if x<10 and x%2==0:\n",
        "  print('x는 10보다 작으면서 짝수야!')\n",
        "if x<10 and not x%2==0:\n",
        "  print('x는 10보다 작으면서 홀수야!')\n",
        "if not x<10 and x%2==0:\n",
        "  print('x는 10보다 크면서 짝수야!')\n",
        "if not x<10 and not x%2==0:\n",
        "  print('x는 10보다 크면서 홀수야!')"
      ],
      "metadata": {
        "colab": {
          "base_uri": "https://localhost:8080/"
        },
        "id": "H-RiK0Jr6KXJ",
        "outputId": "bf56fc16-40ad-4bf0-be6c-743dbfe6984c"
      },
      "execution_count": 10,
      "outputs": [
        {
          "output_type": "stream",
          "name": "stdout",
          "text": [
            "x는 10보다 작으면서 홀수야!\n"
          ]
        }
      ]
    },
    {
      "cell_type": "code",
      "source": [
        "\n",
        "j = 0\n",
        "result1 = 0\n",
        "while True:\n",
        "  if j > 100:\n",
        "    break\n",
        "\n",
        "  j +=1\n",
        "  if j % 2 == 0:\n",
        "    result1 += j\n",
        "\n",
        "print('1번 방법 (break) : {0}'.format(result1))"
      ],
      "metadata": {
        "colab": {
          "base_uri": "https://localhost:8080/"
        },
        "id": "AQkotFmg7VWo",
        "outputId": "ca23dad1-3a3a-4737-a2f8-5cb8a74ec1e3"
      },
      "execution_count": 11,
      "outputs": [
        {
          "output_type": "stream",
          "name": "stdout",
          "text": [
            "1번 방법 (break) : 2550\n"
          ]
        }
      ]
    },
    {
      "cell_type": "code",
      "source": [
        "#2번 방법\n",
        "k = 0\n",
        "result2 = 0\n",
        "while k < 100:\n",
        "  k += 1\n",
        "  if k % 2 != 0:\n",
        "    continue\n",
        "\n",
        "  result2 += k\n",
        "\n",
        "print('2번 방법 (continue) : {0}'.format(result2))"
      ],
      "metadata": {
        "colab": {
          "base_uri": "https://localhost:8080/"
        },
        "id": "dUR00fgp7YaK",
        "outputId": "db37db3c-39ce-4ba8-95d9-07a3cf49b1bb"
      },
      "execution_count": 12,
      "outputs": [
        {
          "output_type": "stream",
          "name": "stdout",
          "text": [
            "2번 방법 (continue) : 2550\n"
          ]
        }
      ]
    }
  ]
}