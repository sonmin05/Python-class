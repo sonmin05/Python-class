{
  "nbformat": 4,
  "nbformat_minor": 0,
  "metadata": {
    "colab": {
      "provenance": [],
      "authorship_tag": "ABX9TyME/UHXMo4LU0ZuQzVj6Zxb",
      "include_colab_link": true
    },
    "kernelspec": {
      "name": "python3",
      "display_name": "Python 3"
    },
    "language_info": {
      "name": "python"
    }
  },
  "cells": [
    {
      "cell_type": "markdown",
      "metadata": {
        "id": "view-in-github",
        "colab_type": "text"
      },
      "source": [
        "<a href=\"https://colab.research.google.com/github/sonmin05/Python-class/blob/main/Untitled1.ipynb\" target=\"_parent\"><img src=\"https://colab.research.google.com/assets/colab-badge.svg\" alt=\"Open In Colab\"/></a>"
      ]
    },
    {
      "cell_type": "code",
      "execution_count": 1,
      "metadata": {
        "id": "c7XRypye13Te"
      },
      "outputs": [],
      "source": [
        "watch=100000"
      ]
    },
    {
      "cell_type": "code",
      "source": [
        "a = 'pig'\n",
        "b = \"dad\""
      ],
      "metadata": {
        "id": "x-RglE9m18M1"
      },
      "execution_count": 2,
      "outputs": []
    },
    {
      "cell_type": "code",
      "source": [
        "a,b = (10,20)\n",
        "[a,b] = [10,20]\n",
        "a = b = 10\n",
        "a = None"
      ],
      "metadata": {
        "id": "qqHvD2Dy1-L0"
      },
      "execution_count": 3,
      "outputs": []
    },
    {
      "cell_type": "code",
      "source": [
        "a = 10\n",
        "b = 20\n",
        "a,b = b,a\n",
        "print(\" a = \", a , \" b = \" , b)"
      ],
      "metadata": {
        "colab": {
          "base_uri": "https://localhost:8080/"
        },
        "id": "mPxtnMHm2ADL",
        "outputId": "c985cc0c-9b8c-4c2f-b089-755e45ad3d39"
      },
      "execution_count": 4,
      "outputs": [
        {
          "output_type": "stream",
          "name": "stdout",
          "text": [
            " a =  20  b =  10\n"
          ]
        }
      ]
    },
    {
      "cell_type": "code",
      "source": [
        "a = [10,20,30]\n",
        "b = a\n",
        "a[0] = 200\n",
        "print(\" a = \", a , \" b = \" , b)"
      ],
      "metadata": {
        "colab": {
          "base_uri": "https://localhost:8080/"
        },
        "id": "NwG-HUaR2CsD",
        "outputId": "50e76fb7-2be3-4315-d827-5403fa2af511"
      },
      "execution_count": 5,
      "outputs": [
        {
          "output_type": "stream",
          "name": "stdout",
          "text": [
            " a =  [200, 20, 30]  b =  [200, 20, 30]\n"
          ]
        }
      ]
    },
    {
      "cell_type": "code",
      "source": [
        "print(\"Hello World\")\n",
        "print(1)"
      ],
      "metadata": {
        "colab": {
          "base_uri": "https://localhost:8080/"
        },
        "id": "gQjQxZSc2UjE",
        "outputId": "2c7e8fae-69b3-4154-adb0-2b483d1025d9"
      },
      "execution_count": 8,
      "outputs": [
        {
          "output_type": "stream",
          "name": "stdout",
          "text": [
            "Hello World\n",
            "1\n"
          ]
        }
      ]
    },
    {
      "cell_type": "code",
      "source": [
        "a = 10\n",
        "print(\"a=\"+str(a)) #정수를 문자열로 변경\n",
        "print(\"a=\",a)\n",
        "print(\"a={}\".format(a)) #format 함수 사용"
      ],
      "metadata": {
        "colab": {
          "base_uri": "https://localhost:8080/"
        },
        "id": "vkn68SoR2EAN",
        "outputId": "d1d63d44-97e8-409b-c55b-8a99b1361629"
      },
      "execution_count": 6,
      "outputs": [
        {
          "output_type": "stream",
          "name": "stdout",
          "text": [
            "a=10\n",
            "a= 10\n",
            "a=10\n"
          ]
        }
      ]
    }
  ]
}