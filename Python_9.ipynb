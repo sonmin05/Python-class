{
  "nbformat": 4,
  "nbformat_minor": 0,
  "metadata": {
    "colab": {
      "provenance": [],
      "authorship_tag": "ABX9TyPIKaL9K25FWhCleUl0Py3x",
      "include_colab_link": true
    },
    "kernelspec": {
      "name": "python3",
      "display_name": "Python 3"
    },
    "language_info": {
      "name": "python"
    }
  },
  "cells": [
    {
      "cell_type": "markdown",
      "metadata": {
        "id": "view-in-github",
        "colab_type": "text"
      },
      "source": [
        "<a href=\"https://colab.research.google.com/github/sonmin05/Python-class/blob/main/Python_9.ipynb\" target=\"_parent\"><img src=\"https://colab.research.google.com/assets/colab-badge.svg\" alt=\"Open In Colab\"/></a>"
      ]
    },
    {
      "cell_type": "code",
      "source": [
        "a = '        test   !       '\n",
        "b = '~~.text.~~ '\n",
        "c = '~test!'\n",
        "\n",
        "#print(a.rstrip(), end='.')\n",
        "print(a.lstrip('~'))\n",
        "print(b.lstrip('~'))\n",
        "print(c.lstrip('~'))\n",
        "\n",
        "print(a.rstrip('~'))\n",
        "print(b.rstrip('~'))\n",
        "print(c.rstrip('~'))\n",
        "\n",
        "print('\\n\\n')\n",
        "\n",
        "text = '000000000Water boils at 100 degress 000'\n",
        "print(text.lstrip('0'))\n",
        "print(text.rstrip('0'))\n",
        "print(text.strip('0'))\n",
        "\n",
        "print('\\n\\n')\n",
        "text = \",,,,,,123...water...pp\"\n",
        "print(text.lstrip(',123.p'))\n",
        "print(text.rstrip(',123.p'))\n",
        "print(text.strip(',123.p'))"
      ],
      "metadata": {
        "colab": {
          "base_uri": "https://localhost:8080/"
        },
        "id": "JhuG20aE5Eul",
        "outputId": "8cbb5d2c-b781-47a2-c3c1-c9d6210c2ef6"
      },
      "execution_count": 7,
      "outputs": [
        {
          "output_type": "stream",
          "name": "stdout",
          "text": [
            "        test   !       \n",
            ".text.~~ \n",
            "test!\n",
            "        test   !       \n",
            "~~.text.~~ \n",
            "~test!\n",
            "\n",
            "\n",
            "\n",
            "Water boils at 100 degress 000\n",
            "000000000Water boils at 100 degress \n",
            "Water boils at 100 degress \n",
            "\n",
            "\n",
            "\n",
            "water...pp\n",
            ",,,,,,123...water\n",
            "water\n"
          ]
        }
      ]
    },
    {
      "cell_type": "code",
      "source": [
        "a = ＇ test’\n",
        "b = ＇~~.test.~~ ’\n",
        "c = ＇~test!’\n",
        "print( a.strip() )\n",
        "print( b.strip(＇~ ’) )\n",
        "print( c.strip(＇~!’) )\n",
        "\n",
        "text = ' Water boils at 100 degrees '\n",
        "print('[' + text.rstrip() + ']')\n",
        "print('[' + text.lstrip() + ']')\n",
        "print('[' + text.strip() + ']')"
      ],
      "metadata": {
        "colab": {
          "base_uri": "https://localhost:8080/",
          "height": 106
        },
        "id": "F8gEeJ2l5GzO",
        "outputId": "c467cd60-d689-4e85-d01d-47ee44d65964"
      },
      "execution_count": 8,
      "outputs": [
        {
          "output_type": "error",
          "ename": "SyntaxError",
          "evalue": "invalid character '＇' (U+FF07) (<ipython-input-8-106b559c1f1e>, line 1)",
          "traceback": [
            "\u001b[0;36m  File \u001b[0;32m\"<ipython-input-8-106b559c1f1e>\"\u001b[0;36m, line \u001b[0;32m1\u001b[0m\n\u001b[0;31m    a = ＇ test’\u001b[0m\n\u001b[0m        ^\u001b[0m\n\u001b[0;31mSyntaxError\u001b[0m\u001b[0;31m:\u001b[0m invalid character '＇' (U+FF07)\n"
          ]
        }
      ]
    },
    {
      "cell_type": "code",
      "source": [
        "text = '  Water bils at 100 degrees  '\n",
        "print('[' + text.rstrip() + ']')\n",
        "print('[' + text.lstrip() + ']')\n",
        "print('[' + text.strip() + ']')"
      ],
      "metadata": {
        "id": "mo_L5L_f5LCc",
        "outputId": "fa9d5fa8-a690-43d7-926b-f8e3ae72aa01",
        "colab": {
          "base_uri": "https://localhost:8080/"
        }
      },
      "execution_count": 9,
      "outputs": [
        {
          "output_type": "stream",
          "name": "stdout",
          "text": [
            "[  Water bils at 100 degrees]\n",
            "[Water bils at 100 degrees  ]\n",
            "[Water bils at 100 degrees]\n"
          ]
        }
      ]
    },
    {
      "cell_type": "code",
      "source": [
        "txt = \"   Hz   \"\n",
        "print(txt.isspace())"
      ],
      "metadata": {
        "id": "piW7nUA55M6U",
        "outputId": "5613e264-37da-416e-889b-2697a1f14f13",
        "colab": {
          "base_uri": "https://localhost:8080/"
        }
      },
      "execution_count": 10,
      "outputs": [
        {
          "output_type": "stream",
          "name": "stdout",
          "text": [
            "False\n"
          ]
        }
      ]
    },
    {
      "cell_type": "code",
      "source": [
        "sentence = input(\"문자열을 입력하시오: \")\n",
        "table = { \"알파벳\" : 0, \"숫자\" : 0, \"빈칸\" : 0}\n",
        "\n",
        "for i in sentence:\n",
        "    if (i.isalpha()):\n",
        "        table[\"알파벳\"] += 1\n",
        "    elif (i.isdigit()):\n",
        "        table[\"숫자\"] += 1\n",
        "    elif (i.isspace()):\n",
        "        table[\"빈칸\"] += 1\n",
        "print(table)"
      ],
      "metadata": {
        "id": "2vBYaRuT5ORs",
        "outputId": "590b3b0b-f4fa-4130-ff32-d6c316db8a6c",
        "colab": {
          "base_uri": "https://localhost:8080/"
        }
      },
      "execution_count": 11,
      "outputs": [
        {
          "output_type": "stream",
          "name": "stdout",
          "text": [
            "문자열을 입력하시오: abc123\n",
            "{'알파벳': 3, '숫자': 3, '빈칸': 0}\n"
          ]
        }
      ]
    },
    {
      "cell_type": "code",
      "source": [
        "s = '가나다라'\n",
        "n = 7\n",
        "\n",
        "answer =''\n",
        "for i in range(n-len(s)):  # 문자열의 앞을 빈 문자열로 채우는 for 문\n",
        "    answer +=' '\n",
        "\n",
        "answer += s\n",
        "\n",
        "print(answer)\n",
        "\n",
        "print(s.ljust(n))\n",
        "print(s.center(n))\n",
        "print(s.rjust(n))"
      ],
      "metadata": {
        "id": "Wa3-NT9A5SAk"
      },
      "execution_count": null,
      "outputs": []
    },
    {
      "cell_type": "code",
      "source": [
        "s = \"a b c d e f g\"\n",
        "print(f's             : {s}')\n",
        "\n",
        "r = s.split()\n",
        "print(f's.split() : {r}')"
      ],
      "metadata": {
        "id": "UcqPxxLY5WzU",
        "outputId": "bd1beebe-585e-4deb-b2c1-6087e790d78a",
        "colab": {
          "base_uri": "https://localhost:8080/"
        }
      },
      "execution_count": 12,
      "outputs": [
        {
          "output_type": "stream",
          "name": "stdout",
          "text": [
            "s             : a b c d e f g\n",
            "s.split() : ['a', 'b', 'c', 'd', 'e', 'f', 'g']\n"
          ]
        }
      ]
    },
    {
      "cell_type": "code",
      "source": [
        "s = \"aa.bb.cc.BlockDMask.ee.ff.gg.python.example\"\n",
        "print(s)\n",
        "\n",
        "r0 = s.split()\n",
        "r1 = s.split('.',3)\n",
        "r2 = s.split(sep='.', maxsplit=4)\n",
        "r3 = s.split('.', maxsplit=3)\n",
        "print(f\"\\ns.split()\\n{r0}\")\n",
        "print(f\"\\ns.split('.',4)\\n{r1}\")\n",
        "print(f\"\\ns.split(sep='.', maxsplit=3)\\n{r2}\")\n",
        "print(f\"\\ns.split('.', maxsplit=3)\\n{r3}\")\n",
        ""
      ],
      "metadata": {
        "id": "xu3m4IWB5YnT",
        "outputId": "0510961d-6152-461c-8bdd-cbd344503b34",
        "colab": {
          "base_uri": "https://localhost:8080/"
        }
      },
      "execution_count": 13,
      "outputs": [
        {
          "output_type": "stream",
          "name": "stdout",
          "text": [
            "aa.bb.cc.BlockDMask.ee.ff.gg.python.example\n",
            "\n",
            "s.split()\n",
            "['aa.bb.cc.BlockDMask.ee.ff.gg.python.example']\n",
            "\n",
            "s.split('.',4)\n",
            "['aa', 'bb', 'cc', 'BlockDMask.ee.ff.gg.python.example']\n",
            "\n",
            "s.split(sep='.', maxsplit=3)\n",
            "['aa', 'bb', 'cc', 'BlockDMask', 'ee.ff.gg.python.example']\n",
            "\n",
            "s.split('.', maxsplit=3)\n",
            "['aa', 'bb', 'cc', 'BlockDMask.ee.ff.gg.python.example']\n"
          ]
        }
      ]
    },
    {
      "cell_type": "code",
      "source": [
        "text = '123,456,789,999'\n",
        "\n",
        "print(text.replace(\",\",\"\"))\n",
        "print(text.replace(\",\",\"!\",1))\n",
        "print(text.replace(\",\",\"!\",2))\n",
        "print(text.replace(\",\",\"!\",3))"
      ],
      "metadata": {
        "id": "kCrLYk-C5af0",
        "outputId": "b2d18e24-c9fe-4564-8a59-15bb08ef7f1c",
        "colab": {
          "base_uri": "https://localhost:8080/"
        }
      },
      "execution_count": 14,
      "outputs": [
        {
          "output_type": "stream",
          "name": "stdout",
          "text": [
            "123456789999\n",
            "123!456,789,999\n",
            "123!456!789,999\n",
            "123!456!789!999\n"
          ]
        }
      ]
    },
    {
      "cell_type": "code",
      "source": [
        "\n",
        "txt = \"홈짱닷컴\\nHomzzang.com\"\n",
        "print(txt.splitlines())"
      ],
      "metadata": {
        "id": "6GZRQPkt5cCk",
        "outputId": "515ea5b4-d7d3-4041-a077-32d589bceea9",
        "colab": {
          "base_uri": "https://localhost:8080/"
        }
      },
      "execution_count": 15,
      "outputs": [
        {
          "output_type": "stream",
          "name": "stdout",
          "text": [
            "['홈짱닷컴', 'Homzzang.com']\n"
          ]
        }
      ]
    },
    {
      "cell_type": "code",
      "source": [
        "a = ['a','b','c','d','1','2','3']\n",
        "print(a)\n",
        "\n",
        "result1 = \"!\".join(a)\n",
        "print(result1)"
      ],
      "metadata": {
        "id": "E2Vavkvb5dUV",
        "outputId": "d6e84025-0c87-49aa-91a3-db0dbfd87ccb",
        "colab": {
          "base_uri": "https://localhost:8080/"
        }
      },
      "execution_count": 16,
      "outputs": [
        {
          "output_type": "stream",
          "name": "stdout",
          "text": [
            "['a', 'b', 'c', 'd', '1', '2', '3']\n",
            "a!b!c!d!1!2!3\n"
          ]
        }
      ]
    },
    {
      "cell_type": "code",
      "source": [
        "print( \"3\".zfill(3))\n",
        "print( \"s1\".zfill(4))"
      ],
      "metadata": {
        "id": "Mu9q0IiU5fZU",
        "outputId": "aa0c577d-c48a-4378-f180-dc865bdfbdf7",
        "colab": {
          "base_uri": "https://localhost:8080/"
        }
      },
      "execution_count": 17,
      "outputs": [
        {
          "output_type": "stream",
          "name": "stdout",
          "text": [
            "003\n",
            "00s1\n"
          ]
        }
      ]
    },
    {
      "cell_type": "code",
      "source": [
        "for x in range(3):\n",
        "    print(x)\n",
        "    print( str(x).zfill(4))"
      ],
      "metadata": {
        "id": "eUyoBCiw5gyd",
        "outputId": "bfc99450-a4cf-4c4b-c2f0-50b4806e68e1",
        "colab": {
          "base_uri": "https://localhost:8080/"
        }
      },
      "execution_count": 18,
      "outputs": [
        {
          "output_type": "stream",
          "name": "stdout",
          "text": [
            "0\n",
            "0000\n",
            "1\n",
            "0001\n",
            "2\n",
            "0002\n"
          ]
        }
      ]
    },
    {
      "cell_type": "code",
      "source": [
        "a =\"abc\"\n",
        "\n",
        "print(a.rjust(10))\n",
        "print(a.rjust(10, '#'))\n",
        "\n",
        "print(a.ljust(10))\n",
        "print(a.ljust(10, '*'))\n",
        "\n",
        "print('\\n')\n",
        "\n",
        "b='def'\n",
        "print(b.ljust(15))\n",
        "print(b.ljust(15, 'k'))"
      ],
      "metadata": {
        "id": "xPs7ktMc5iFL",
        "outputId": "9dbacfbe-6dc7-4e17-fad0-510e45894d86",
        "colab": {
          "base_uri": "https://localhost:8080/"
        }
      },
      "execution_count": 19,
      "outputs": [
        {
          "output_type": "stream",
          "name": "stdout",
          "text": [
            "       abc\n",
            "#######abc\n",
            "abc       \n",
            "abc*******\n",
            "\n",
            "\n",
            "def            \n",
            "defkkkkkkkkkkkk\n"
          ]
        }
      ]
    }
  ]
}